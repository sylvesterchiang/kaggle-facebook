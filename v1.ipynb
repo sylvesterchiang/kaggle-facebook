{
 "cells": [
  {
   "cell_type": "markdown",
   "metadata": {},
   "source": [
    "# Facebook Check-in Challenge"
   ]
  },
  {
   "cell_type": "code",
   "execution_count": 3,
   "metadata": {
    "collapsed": false
   },
   "outputs": [
    {
     "name": "stdout",
     "output_type": "stream",
     "text": [
      "reading train.csv\n",
      "reading test.csv\n"
     ]
    }
   ],
   "source": [
    "#Starter code from Kaggle\n",
    "\n",
    "import pandas as pd\n",
    "import numpy as np\n",
    "\n",
    "print 'reading train.csv'\n",
    "train = pd.read_csv('train.csv', nrows=1000)\n",
    "print 'reading test.csv'\n",
    "test = pd.read_csv('test.csv')\n",
    "start_time = time.time()"
   ]
  },
  {
   "cell_type": "code",
   "execution_count": 9,
   "metadata": {
    "collapsed": false
   },
   "outputs": [
    {
     "name": "stdout",
     "output_type": "stream",
     "text": [
      "Index([u'row_id', u'x', u'y', u'accuracy', u'time', u'place_id'], dtype='object')\n"
     ]
    }
   ],
   "source": [
    "print train.columns"
   ]
  },
  {
   "cell_type": "code",
   "execution_count": 13,
   "metadata": {
    "collapsed": false
   },
   "outputs": [
    {
     "name": "stdout",
     "output_type": "stream",
     "text": [
      "Index([u'row_id', u'x', u'y', u'accuracy', u'time', u'hour', u'weekday',\n",
      "       u'month', u'year'],\n",
      "      dtype='object')\n"
     ]
    }
   ],
   "source": [
    "print test.columns"
   ]
  },
  {
   "cell_type": "code",
   "execution_count": 10,
   "metadata": {
    "collapsed": true
   },
   "outputs": [],
   "source": [
    "size = 10.0;\n",
    "\n",
    "x_step = 0.2\n",
    "y_step = 0.2\n",
    "\n",
    "x_ranges = zip(np.arange(0, size, x_step), np.arange(x_step, size + x_step, x_step));\n",
    "y_ranges = zip(np.arange(0, size, y_step), np.arange(y_step, size + y_step, y_step));"
   ]
  },
  {
   "cell_type": "code",
   "execution_count": 12,
   "metadata": {
    "collapsed": false
   },
   "outputs": [
    {
     "name": "stdout",
     "output_type": "stream",
     "text": [
      "Calculate hour, weekday, month and year for train and test\n"
     ]
    }
   ],
   "source": [
    "#Calculating individual time metrics from the time column\n",
    "print('Calculate hour, weekday, month and year for train and test')\n",
    "train['hour'] = (train['time']//60)%24+1 # 1 to 24\n",
    "train['weekday'] = (train['time']//1440)%7+1\n",
    "train['month'] = (train['time']//43200)%12+1 # rough estimate, month = 30 days\n",
    "train['year'] = (train['time']//525600)+1 \n",
    "\n",
    "test['hour'] = (test['time']//60)%24+1 # 1 to 24\n",
    "test['weekday'] = (test['time']//1440)%7+1\n",
    "test['month'] = (test['time']//43200)%12+1 # rough estimate, month = 30 days\n",
    "test['year'] = (test['time']//525600)+1\n",
    "\n",
    "X_train = train[['x','y','accuracy','time', 'hour', 'weekday', 'month', 'year']];\n",
    "y_train = train[['place_id']];\n",
    "X_test = test[['x','y','accuracy','time', 'hour', 'weekday', 'month', 'year']];\n",
    "X_test_labels = test[['row_id']];"
   ]
  },
  {
   "cell_type": "code",
   "execution_count": null,
   "metadata": {
    "collapsed": true
   },
   "outputs": [],
   "source": [
    "print 'training classifier'\n",
    "clf = RandomForestClassifier(n_estimators = 10, n_jobs = -1,random_state=0);\n",
    "clf.fit(X_train, y_train)\n",
    "\n",
    "print 'generating predictions'\n",
    "preds = dict(zip([el for el in clf.classes_], zip(*clf.predict_proba(X_test))))\n",
    "preds = pd.DataFrame.from_dict(preds)\n",
    "\n",
    "prihree most lkel\n",
    "preds['0_'], preds['1_'], preds['2_'] = zip(*preds.apply(lambda x: preds.columns[x.argsort()[::-1][:3]].tolist(), axis=1));\n",
    "preds = preds[['0_','1_','2_']];\n",
    "preds['row_id'] = X_test_labels\n",
    "preds['place_id'] = preds[['0_', '1_', '2_']].apply(lambda x: ' '.join([str(x1) for x1 in x]), axis=1)\n",
    "\n",
    "preds.drop('0_', axis=1, inplace=True)\n",
    "preds.drop('1_', axis=1, inplace=True)\n",
    "preds.drop('2_', axis=1, inplace=True)\n",
    "print 'writing to file'\n",
    "sub_file = os.path.join('rf_submission_' + str(datetime.datetime.now().strftime(\"%Y-%m-%d-%H-%M\")) + '.csv')\n",
    "preds.to_csv(sub_file,index=False)\n",
    "print 'finished'"
   ]
  },
  {
   "cell_type": "code",
   "execution_count": null,
   "metadata": {
    "collapsed": true
   },
   "outputs": [],
   "source": []
  }
 ],
 "metadata": {
  "kernelspec": {
   "display_name": "Python 2",
   "language": "python",
   "name": "python2"
  },
  "language_info": {
   "codemirror_mode": {
    "name": "ipython",
    "version": 2
   },
   "file_extension": ".py",
   "mimetype": "text/x-python",
   "name": "python",
   "nbconvert_exporter": "python",
   "pygments_lexer": "ipython2",
   "version": "2.7.11"
  }
 },
 "nbformat": 4,
 "nbformat_minor": 0
}
